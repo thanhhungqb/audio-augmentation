{
  "cells": [
    {
      "cell_type": "code",
      "execution_count": null,
      "metadata": {
        "colab": {
          "base_uri": "https://localhost:8080/"
        },
        "id": "c-0bF37X6fuH",
        "outputId": "04f48864-30c3-4a9e-9c5a-d9b52783484c"
      },
      "outputs": [],
      "source": [
        "!pip install sox wget\n",
        "!sudo apt-get install sox libsox-fmt-all \n",
        "!sudo apt-get install sox libsox-dev\n",
        "!pip install tqdm"
      ]
    },
    {
      "cell_type": "code",
      "execution_count": null,
      "metadata": {
        "id": "ea-gj8E_6t3w"
      },
      "outputs": [],
      "source": [
        "import os\n",
        "import wget\n",
        "import tarfile\n",
        "import zipfile\n",
        "import sox\n",
        "import numpy as np\n",
        "import random\n",
        "import torch\n",
        "import soundfile as sf\n",
        "import librosa\n",
        "from tqdm import tqdm\n",
        "from pathlib import Path"
      ]
    },
    {
      "cell_type": "code",
      "execution_count": null,
      "metadata": {
        "colab": {
          "base_uri": "https://localhost:8080/"
        },
        "id": "uG92eQ5w6DQh",
        "outputId": "18fc96cb-e3d8-4829-ee0e-63670dbf996d"
      },
      "outputs": [],
      "source": [
        "workspace = \"datasets\"\n",
        "if not os.path.exists(workspace):\n",
        "  os.makedirs(workspace)\n",
        "\n",
        "data_dir = '/path/to/vivos.zip'\n",
        "\n",
        "with zipfile.ZipFile(data_dir, 'r') as zip_ref:\n",
        "  zip_ref.extractall(workspace)"
      ]
    },
    {
      "cell_type": "code",
      "execution_count": null,
      "metadata": {
        "id": "OOUlOFwb6iaX"
      },
      "outputs": [],
      "source": [
        "def volume(n_segments, min_relative_vol, max_relative_vol):\n",
        "  \"\"\" Adjust volume on segments \"\"\"\n",
        "\n",
        "  assert (n_segments > 0) and (min_relative_vol > 0) and (max_relative_vol > 0)\n",
        "  def exec(signal):\n",
        "    signal_length = len(signal)\n",
        "    win_length = int(signal_length/n_segments)\n",
        "    segments = None\n",
        "    for idx in range(n_segments):\n",
        "      start = idx * win_length\n",
        "      if idx < n_segments - 1:\n",
        "        segment = signal[start:start + win_length]\n",
        "      else:\n",
        "        segment = signal[start:signal_length]\n",
        "      scale = np.random.uniform(min_relative_vol, max_relative_vol)\n",
        "      segment = scale * segment\n",
        "      if idx == 0:\n",
        "        segments = segment\n",
        "      else:\n",
        "        segments = np.concatenate((segments, segment))\n",
        "    return segments\n",
        "  return exec"
      ]
    },
    {
      "cell_type": "code",
      "execution_count": null,
      "metadata": {
        "id": "JxciOK1U7Dfs"
      },
      "outputs": [],
      "source": [
        "def perturb(n_effects, sr=16000):\n",
        "  \"\"\" Random and apply n_effects from effect list \"\"\"\n",
        "\n",
        "  def exec(signal):\n",
        "    effects = ['echo', 'speed', 'pitch', 'volume']\n",
        "    transforms = np.random.choice(effects, size=n_effects, replace=False)\n",
        "    for transform in transforms:\n",
        "      if transform == 'speed':\n",
        "        value = np.random.choice([0.5, 1.1]) + np.random.uniform(0.0, 0.4)\n",
        "        tfm = sox.Transformer()\n",
        "        tfm.speed(value)\n",
        "        signal = tfm.build_array(input_array=signal, sample_rate_in=sr)\n",
        "      elif transform == 'pitch':\n",
        "        value = np.random.choice([-10, 2]) + np.random.randint(0, 8)\n",
        "        tfm = sox.Transformer()\n",
        "        tfm.pitch(value)\n",
        "        signal = tfm.build_array(input_array=signal, sample_rate_in=sr)\n",
        "      elif transform == 'echo':\n",
        "        n_echos = np.random.randint(1, 3)\n",
        "        delays = [60] * n_echos\n",
        "        decays = [0.4] * n_echos\n",
        "        tfm = sox.Transformer()\n",
        "        tfm.echo(gain_in=1.0, gain_out=1.0, n_echos=n_echos, delays=delays, decays=decays)\n",
        "        signal = tfm.build_array(input_array=signal, sample_rate_in=sr)\n",
        "      else:\n",
        "        n_segments = np.random.randint(2, 4)\n",
        "        min_vol = 0.4\n",
        "        max_vol = 10\n",
        "        vol = volume(n_segments=n_segments, min_relative_vol=min_vol, max_relative_vol=max_vol)\n",
        "        signal = vol(signal)\n",
        "    return signal\n",
        "  return exec"
      ]
    },
    {
      "cell_type": "code",
      "execution_count": null,
      "metadata": {
        "id": "Fr70ZtpVBCbQ"
      },
      "outputs": [],
      "source": [
        "def add_noise(noise_list, signal):\n",
        "  signal_length = len(signal)\n",
        "  \n",
        "  # extract noise from noise list\n",
        "  noise = random.choice(noise_list)\n",
        "  start = random.randint(0, len(noise) - signal_length - 1)\n",
        "  noise = noise[start:start + signal_length]\n",
        "        \n",
        "  # calculate power of audio and noise\n",
        "  snr = random.randint(5, 15)\n",
        "  signal_energy = np.mean(signal**2)\n",
        "  noise_energy = np.mean(noise**2)\n",
        "  coef = np.sqrt(10.0 ** (-snr/10) * signal_energy / noise_energy)\n",
        "  signal_coef = np.sqrt(1 / (1 + coef**2))\n",
        "  noise_coef = np.sqrt(coef**2 / (1 + coef**2))\n",
        "        \n",
        "  return signal_coef * signal + noise_coef * noise"
      ]
    },
    {
      "cell_type": "code",
      "execution_count": null,
      "metadata": {
        "id": "Reu8encaDIpQ"
      },
      "outputs": [],
      "source": [
        "noise_path = '/path/to/noise.npy'\n",
        "noise_list = np.load(noise_path, allow_pickle=True)"
      ]
    },
    {
      "cell_type": "code",
      "execution_count": null,
      "metadata": {
        "id": "wYJpG0CiAg8X"
      },
      "outputs": [],
      "source": [
        "def build_dataset(wav_path, out_path, max_effect=3):\n",
        "  \"\"\" Duplicate dataset four times (1 clean, 1 disturbed and 2 perturbed) \"\"\"\n",
        "\n",
        "  wav_list = librosa.util.find_files(wav_path, ext='wav')\n",
        "  %cd $out_path\n",
        "\n",
        "  for wav in tqdm(wav_list):\n",
        "    signal, sr = librosa.load(wav, sr=16000)\n",
        "    splt = wav.split('/')\n",
        "    name = splt[-1][:-4]\n",
        "    \n",
        "    # clean\n",
        "    clean_dir = os.path.join(out_path, name + '.wav')\n",
        "    sf.write(clean_dir, signal, samplerate=16000)\n",
        "\n",
        "    # perturb 1 \n",
        "    n_effects = np.random.randint(1, max_effect)\n",
        "    transform = perturb(n_effects=n_effects)\n",
        "    perturb_signal = transform(signal)\n",
        "    perturb_name = name + '_perturb_1.wav'\n",
        "    perturb_dir = os.path.join(out_path, perturb_name)\n",
        "    sf.write(perturb_dir, perturb_signal, samplerate=16000)\n",
        "\n",
        "    # perturb 2\n",
        "    n_effects = np.random.randint(1, max_effect)\n",
        "    transform = perturb(n_effects=n_effects)\n",
        "    perturb_signal = transform(signal)\n",
        "    perturb_name = name + '_perturb_2.wav'\n",
        "    perturb_dir = os.path.join(out_path, perturb_name)\n",
        "    sf.write(perturb_dir, perturb_signal, samplerate=16000)\n",
        "\n",
        "    # add noise\n",
        "    noise_signal = add_noise(noise_list=noise_list, signal=signal)\n",
        "    noise_name = name + '_noise.wav'\n",
        "    noise_dir = os.path.join(out_path, noise_name)\n",
        "    sf.write(noise_dir, noise_signal, samplerate=16000)"
      ]
    },
    {
      "cell_type": "code",
      "execution_count": null,
      "metadata": {
        "id": "A7YMLYTfkAMC"
      },
      "outputs": [],
      "source": [
        "def build_prompts(in_prompts_path, out_prompts_path):\n",
        "  \"\"\" Create new prompts for new dataset \"\"\"\n",
        "\n",
        "  with open(in_prompts_path, 'r') as fin:\n",
        "    with open(out_prompts_path, 'w') as fout:\n",
        "      for line in fin:\n",
        "        splt = line.split()\n",
        "        name = splt[0]\n",
        "        label = ' '.join(splt[1:])\n",
        "        fout.write(name + ' ' + label + '\\n')\n",
        "        fout.write(name + '_noise' + ' ' + label + '\\n')\n",
        "        fout.write(name + '_perturb_1' + ' ' + label + '\\n')\n",
        "        fout.write(name + '_perturb_2' + ' ' + label + '\\n')"
      ]
    },
    {
      "cell_type": "code",
      "execution_count": null,
      "metadata": {
        "id": "HYoJO5uibqI1"
      },
      "outputs": [],
      "source": [
        "wav_path = '/path/to/datasets/vivos/train/waves'\n",
        "out_path = '/path/to/datasets/vivos-augment/train/waves'\n",
        "build_dataset(wav_path, out_path)"
      ]
    },
    {
      "cell_type": "code",
      "execution_count": null,
      "metadata": {
        "id": "BtlruwLQnTjC"
      },
      "outputs": [],
      "source": [
        "train_prompts = '/path/to/datasets/vivos/train/prompts.txt'\n",
        "out_prompts = '/path/to/datasets/vivos-augment/train/prompts.txt'\n",
        "build_prompts(train_prompts, out_prompts)"
      ]
    }
  ],
  "metadata": {
    "colab": {
      "collapsed_sections": [],
      "provenance": []
    },
    "kernelspec": {
      "display_name": "Python 3",
      "name": "python3"
    },
    "language_info": {
      "name": "python"
    }
  },
  "nbformat": 4,
  "nbformat_minor": 0
}
